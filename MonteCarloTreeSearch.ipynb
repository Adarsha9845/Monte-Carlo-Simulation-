{
  "nbformat": 4,
  "nbformat_minor": 0,
  "metadata": {
    "colab": {
      "provenance": [],
      "authorship_tag": "ABX9TyPtfBBiONfVZSB8cPQQ5t1V",
      "include_colab_link": true
    },
    "kernelspec": {
      "name": "python3",
      "display_name": "Python 3"
    },
    "language_info": {
      "name": "python"
    }
  },
  "cells": [
    {
      "cell_type": "markdown",
      "metadata": {
        "id": "view-in-github",
        "colab_type": "text"
      },
      "source": [
        "<a href=\"https://colab.research.google.com/github/Adarsha9845/Monte-Carlo-Simulation-/blob/main/MonteCarloTreeSearch.ipynb\" target=\"_parent\"><img src=\"https://colab.research.google.com/assets/colab-badge.svg\" alt=\"Open In Colab\"/></a>"
      ]
    },
    {
      "cell_type": "code",
      "execution_count": null,
      "metadata": {
        "id": "VOPjRMX9SKDf"
      },
      "outputs": [],
      "source": [
        "import numpy as np"
      ]
    },
    {
      "cell_type": "code",
      "source": [
        "# a = np.array([[0, 0, 0], [2, 2, 2], [3, 3, 3]])\n",
        "# if a[0][0] & a[0][1] & a[0][2] == 1 or 0:\n",
        "#   print('Yess!')"
      ],
      "metadata": {
        "id": "QaQ16ze8TEa8"
      },
      "execution_count": null,
      "outputs": []
    },
    {
      "cell_type": "code",
      "source": [
        "def identifyWin(state):\n",
        "  a = state\n",
        "  if a[0][0] & a[0][1] & a[0][2] == 1:\n",
        "    return True, 'man'\n",
        "  if a[0][0] & a[0][1] & a[0][2] == 2:\n",
        "    return True, 'machine'\n",
        "\n",
        "  if a[0][0] & a[1][0] & a[2][0] == 1:\n",
        "    return True, 'man'\n",
        "  if a[0][0] & a[1][0] & a[2][0] == 2:\n",
        "    return True, 'machine'\n",
        "\n",
        "  if a[0][1] & a[1][1] & a[2][1] == 1:\n",
        "    return True, 'man'\n",
        "  if a[0][1] & a[1][1] & a[2][1] == 2:\n",
        "    return True, 'machine'\n",
        "\n",
        "  if a[0][2] & a[1][2] & a[2][2] == 1:\n",
        "    return True, 'man'\n",
        "  if a[0][2] & a[1][2] & a[2][2] == 2:\n",
        "    return True, 'machine'\n",
        "\n",
        "  if a[1][0] & a[1][1] & a[1][2] == 1:\n",
        "    return True, 'man'\n",
        "  if a[1][0] & a[1][1] & a[1][2] == 2:\n",
        "    return True, 'Machine'\n",
        "  if a[2][0] & a[2][1] & a[2][2] == 1:\n",
        "    return True, 'man'\n",
        "  if a[2][0] & a[2][1] & a[2][2] == 2:\n",
        "    return True, 'machine'\n",
        "  if a[0][0] & a[1][1] & a[2][2] == 1:\n",
        "    return True, 'man'\n",
        "  if a[0][0] & a[1][1] & a[2][2] == 2:\n",
        "    return True, 'machine'\n",
        "  if a[0][2] & a[1][1] & a[2][0] == 1:\n",
        "    return True, 'man'\n",
        "  if a[0][2] & a[1][1] & a[2][0] == 2:\n",
        "    return True, 'machine'\n",
        "  else:\n",
        "    return False, 'None'\n"
      ],
      "metadata": {
        "id": "so0O1SXASRIs"
      },
      "execution_count": null,
      "outputs": []
    },
    {
      "cell_type": "code",
      "source": [
        "# a = np.array([[0, 0, 1], [1, 1, 0], [1, 1, 2]])\n",
        "# stat = identifyWin(a)\n",
        "# print(stat)"
      ],
      "metadata": {
        "id": "1ud8RExkXNAk"
      },
      "execution_count": null,
      "outputs": []
    },
    {
      "cell_type": "code",
      "source": [
        "def gamePlay(pos, cond, play_mode):\n",
        "  if play_mode == 'man':\n",
        "    cond[pos[0], pos[1]] = 1\n",
        "    return cond\n",
        "  else:\n",
        "    cond[pos[0], pos[1]] = 2\n",
        "    return cond\n",
        "  # 1 is for human, 2 is for machine and 0 is unoccupied position"
      ],
      "metadata": {
        "id": "8kJbOIf_WtvH"
      },
      "execution_count": null,
      "outputs": []
    },
    {
      "cell_type": "code",
      "source": [
        "# cond = np.array([[0, 0, 1], [1, 1, 0], [1, 1, 2]])\n",
        "# pos = [1, 2]\n",
        "# b = gamePlay(pos, cond, 'machine')\n",
        "\n",
        "# print(b)"
      ],
      "metadata": {
        "id": "5ht8lhzdz3RC"
      },
      "execution_count": null,
      "outputs": []
    },
    {
      "cell_type": "code",
      "source": [
        "# cond = np.array([[0, 0, 1], [1, 1, 0], [1, 1, 2]])\n",
        "# for i in cond:\n",
        "#   for j in i:\n",
        "#     print(j)"
      ],
      "metadata": {
        "id": "cFuM5G7ZENyF"
      },
      "execution_count": null,
      "outputs": []
    },
    {
      "cell_type": "code",
      "source": [
        "# cond = np.array([[0, 0, 1], [1, 1, 0], [1, 1, 2]])"
      ],
      "metadata": {
        "id": "UioVSjIRFOYV"
      },
      "execution_count": null,
      "outputs": []
    },
    {
      "cell_type": "code",
      "source": [
        "def randomPlay(cond, play_mode):\n",
        "  a = 0\n",
        "  possibleMove = []\n",
        "  for i in cond:\n",
        "    for j in i:\n",
        "      if j == 0:\n",
        "        possibleMove.append(a)\n",
        "      a = a + 1\n",
        "  move = np.random.choice(possibleMove)\n",
        "  if move == 0:\n",
        "    pos = [0, 0]\n",
        "\n",
        "  if move == 1:\n",
        "    pos = [0, 1]\n",
        "\n",
        "  if move == 2:\n",
        "    pos = [0, 2]\n",
        "\n",
        "  if move == 3:\n",
        "    pos = [1, 0]\n",
        "\n",
        "  if move == 4:\n",
        "    pos = [1, 1]\n",
        "\n",
        "  if move == 5:\n",
        "    pos = [1, 2]\n",
        "\n",
        "  if move == 6:\n",
        "    pos = [2, 0]\n",
        "\n",
        "  if move == 7:\n",
        "    pos = [2, 1]\n",
        "\n",
        "  if move == 8:\n",
        "    pos = [2, 2]\n",
        "  cond = gamePlay(pos, cond, play_mode)\n",
        "  return cond\n"
      ],
      "metadata": {
        "id": "KGUUUiFj1qCg"
      },
      "execution_count": null,
      "outputs": []
    },
    {
      "cell_type": "code",
      "source": [
        "def randomPosGenerator(cond):\n",
        "  a = 0\n",
        "  possibleMove = []\n",
        "  for i in cond:\n",
        "    for j in i:\n",
        "      if j == 0:\n",
        "        possibleMove.append(a)\n",
        "      a = a + 1\n",
        "  move = np.random.choice(possibleMove)\n",
        "  if move == 0:\n",
        "    pos = [0, 0]\n",
        "\n",
        "  if move == 1:\n",
        "    pos = [0, 1]\n",
        "\n",
        "  if move == 2:\n",
        "    pos = [0, 2]\n",
        "\n",
        "  if move == 3:\n",
        "    pos = [1, 0]\n",
        "\n",
        "  if move == 4:\n",
        "    pos = [1, 1]\n",
        "\n",
        "  if move == 5:\n",
        "    pos = [1, 2]\n",
        "\n",
        "  if move == 6:\n",
        "    pos = [2, 0]\n",
        "\n",
        "  if move == 7:\n",
        "    pos = [2, 1]\n",
        "\n",
        "  if move == 8:\n",
        "    pos = [2, 2]\n",
        "\n",
        "  return pos"
      ],
      "metadata": {
        "id": "OYn-QosMJMsO"
      },
      "execution_count": null,
      "outputs": []
    },
    {
      "cell_type": "code",
      "source": [
        "cond = np.array([[0, 0, 0], [0, 0, 0], [0, 0, 0]])\n",
        "cond"
      ],
      "metadata": {
        "colab": {
          "base_uri": "https://localhost:8080/"
        },
        "id": "5cbZOXYpJ5c-",
        "outputId": "5a873c58-5457-443b-e864-aa0a2e025b9a"
      },
      "execution_count": null,
      "outputs": [
        {
          "output_type": "execute_result",
          "data": {
            "text/plain": [
              "array([[0, 0, 0],\n",
              "       [0, 0, 0],\n",
              "       [0, 0, 0]])"
            ]
          },
          "metadata": {},
          "execution_count": 51
        }
      ]
    },
    {
      "cell_type": "code",
      "source": [
        "cond = np.array([[0, 0, 0], [0, 0, 0], [0, 0, 0]])\n",
        "count = 0\n",
        "while True:\n",
        "  cond = randomPlay(cond, 'machine')\n",
        "  count = count + 1\n",
        "  print(cond)\n",
        "  status, who = identifyWin(cond)\n",
        "  if status:\n",
        "    if who == 'man':\n",
        "      print('Man Won!!!')\n",
        "      break\n",
        "    else:\n",
        "      print('Machine Won!!')\n",
        "      break\n",
        "  if count == 9:\n",
        "    print('Match Draw!!')\n",
        "    break\n",
        "  pos = randomPosGenerator(cond)\n",
        "  # pos = []\n",
        "  # a = input('Your row')\n",
        "  # b = input('Your column')\n",
        "\n",
        "  # pos = [int(a), int(b)]\n",
        "  print(pos)\n",
        "  cond = gamePlay(pos, cond, play_mode = 'man')\n",
        "  count = count + 1\n",
        "  print(cond)\n",
        "  status, who = identifyWin(cond)\n",
        "  if status:\n",
        "    if who == 'man':\n",
        "      print('Man Won!!!')\n",
        "      break\n",
        "    else:\n",
        "      print('Machine Won!!')\n",
        "      break\n",
        "  if count == 9:\n",
        "    print('Match Draw!!')\n",
        "    break\n",
        "\n",
        "\n",
        "\n"
      ],
      "metadata": {
        "colab": {
          "base_uri": "https://localhost:8080/"
        },
        "id": "GgCoXoazIVqG",
        "outputId": "8fa3d26c-44ef-44c0-9da1-ef5f4e96dbc2"
      },
      "execution_count": null,
      "outputs": [
        {
          "output_type": "stream",
          "name": "stdout",
          "text": [
            "[[0 0 0]\n",
            " [0 0 2]\n",
            " [0 0 0]]\n",
            "[1, 0]\n",
            "[[0 0 0]\n",
            " [1 0 2]\n",
            " [0 0 0]]\n",
            "[[0 0 2]\n",
            " [1 0 2]\n",
            " [0 0 0]]\n",
            "[2, 0]\n",
            "[[0 0 2]\n",
            " [1 0 2]\n",
            " [1 0 0]]\n",
            "[[0 0 2]\n",
            " [1 0 2]\n",
            " [1 2 0]]\n",
            "[0, 0]\n",
            "[[1 0 2]\n",
            " [1 0 2]\n",
            " [1 2 0]]\n",
            "Man Won!!!\n"
          ]
        }
      ]
    },
    {
      "cell_type": "code",
      "source": [
        "class nodes:\n",
        "  def __init__(self, node_number, parent_number, parentVisit, layer, value = 0, totalVisit = 0):\n",
        "    self.node_number = node_number\n",
        "    self.parent_number = parent_number\n",
        "    self.value = value\n",
        "    self.totalVisit = totalVisit\n",
        "    self.layer = layer\n",
        "    self.parentVisit = parentVisit\n",
        "\n"
      ],
      "metadata": {
        "id": "iUNLl2buKZxG"
      },
      "execution_count": null,
      "outputs": []
    },
    {
      "cell_type": "code",
      "source": [
        "def calcUcb(node):\n",
        "    if node.totalVisit == 0:\n",
        "      ucb = 1000000\n",
        "    else:\n",
        "      ucb = node.value / node.totalVisit * (2)**0.5 * (np.log(node.parentVisit) / node.totalVisit) ** 0.5\n",
        "    return ucb"
      ],
      "metadata": {
        "id": "8KUK22VGYOZR"
      },
      "execution_count": null,
      "outputs": []
    },
    {
      "cell_type": "code",
      "source": [
        "def monteCarlo():\n"
      ],
      "metadata": {
        "id": "9B4ajnFEdv10"
      },
      "execution_count": null,
      "outputs": []
    }
  ]
}