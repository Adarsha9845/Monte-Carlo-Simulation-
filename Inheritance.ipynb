{
  "nbformat": 4,
  "nbformat_minor": 0,
  "metadata": {
    "colab": {
      "provenance": [],
      "authorship_tag": "ABX9TyN/0/d99szwCTaz8uMOsi4C",
      "include_colab_link": true
    },
    "kernelspec": {
      "name": "python3",
      "display_name": "Python 3"
    },
    "language_info": {
      "name": "python"
    }
  },
  "cells": [
    {
      "cell_type": "markdown",
      "metadata": {
        "id": "view-in-github",
        "colab_type": "text"
      },
      "source": [
        "<a href=\"https://colab.research.google.com/github/Adarsha9845/Monte-Carlo-Simulation-/blob/main/Inheritance.ipynb\" target=\"_parent\"><img src=\"https://colab.research.google.com/assets/colab-badge.svg\" alt=\"Open In Colab\"/></a>"
      ]
    },
    {
      "cell_type": "code",
      "execution_count": null,
      "metadata": {
        "id": "BQsUxFctNkih"
      },
      "outputs": [],
      "source": [
        "import numpy as np"
      ]
    },
    {
      "cell_type": "code",
      "source": [
        "class animal():\n",
        "  def __init__(self):\n",
        "    self.age = 10\n",
        "  def sayAge(self):\n",
        "    print(\"All the animals live for\" + str(self.age))"
      ],
      "metadata": {
        "id": "aF_r3AvGOCSd"
      },
      "execution_count": null,
      "outputs": []
    },
    {
      "cell_type": "code",
      "source": [
        "class Dog(animal):\n",
        "  pass"
      ],
      "metadata": {
        "id": "GocleZyoOvRe"
      },
      "execution_count": null,
      "outputs": []
    },
    {
      "cell_type": "code",
      "source": [
        "dog = Dog()"
      ],
      "metadata": {
        "id": "zTbeB70NO59j"
      },
      "execution_count": null,
      "outputs": []
    },
    {
      "cell_type": "code",
      "source": [
        "dog.sayAge()"
      ],
      "metadata": {
        "id": "YPjIEdbKO9En",
        "outputId": "952384e6-1372-4a13-ea3d-c6033e25b7c0",
        "colab": {
          "base_uri": "https://localhost:8080/"
        }
      },
      "execution_count": null,
      "outputs": [
        {
          "output_type": "stream",
          "name": "stdout",
          "text": [
            "All the animals live for10\n"
          ]
        }
      ]
    },
    {
      "cell_type": "code",
      "source": [
        "class Engine:\n",
        "    def start(self):\n",
        "        print('Engine starts')\n",
        "\n",
        "class Car:\n",
        "    def __init__(self, engine):\n",
        "        self.engine = engine\n",
        "    def start(self):\n",
        "        self.engine.start()\n",
        "\n",
        "# Creating an instance of the Engine class\n",
        "engine = Engine()\n",
        "car = Car(engine)\n",
        "car.start()"
      ],
      "metadata": {
        "id": "CZcjEV7sO_rq",
        "outputId": "8b47d7ab-82a6-42d4-af90-1b0be783824d",
        "colab": {
          "base_uri": "https://localhost:8080/"
        }
      },
      "execution_count": 3,
      "outputs": [
        {
          "output_type": "stream",
          "name": "stdout",
          "text": [
            "Engine starts\n"
          ]
        }
      ]
    },
    {
      "cell_type": "code",
      "source": [
        "class TreeNode:\n",
        "    def __init__(self, data):\n",
        "        self.data = data\n",
        "        self.parent = None\n",
        "        self.children = []\n",
        "\n",
        "    def add_child(self, child):\n",
        "        child.parent = self\n",
        "        self.children.append(child)\n",
        "\n",
        "    def get_level(self):\n",
        "        level = 0\n",
        "        p = self.parent\n",
        "        while p:\n",
        "            level += 1\n",
        "            p = p.parent\n",
        "        return level\n",
        "\n",
        "    def print_tree(self):\n",
        "        spaces = ' ' * self.get_level() * 3\n",
        "        prefix = spaces + \"|__\" if self.parent else \"\"\n",
        "        print(prefix + self.data)\n",
        "        if self.children:\n",
        "            for child in self.children:\n",
        "                child.print_tree()\n",
        "\n",
        "def build_tree():\n",
        "    root = TreeNode(\"Root\")\n",
        "\n",
        "    child1 = TreeNode(\"Child 1\")\n",
        "    child2 = TreeNode(\"Child 2\")\n",
        "    child3 = TreeNode(\"Child 3\")\n",
        "    child4 = TreeNode(\"Child 4\")\n",
        "    child5 = TreeNode(\"Child 5\")\n",
        "    child6 = TreeNode(\"Child 6\")\n",
        "\n",
        "    root.add_child(child1)\n",
        "    root.add_child(child2)\n",
        "    child2.add_child(child3)\n",
        "    child3.add_child(child4)\n",
        "    child3.add_child(child5)\n",
        "    child5.add_child(child6)\n",
        "\n",
        "    return root\n",
        "\n",
        "if __name__ == \"__main__\":\n",
        "    tree = build_tree()\n",
        "    tree.print_tree()"
      ],
      "metadata": {
        "id": "FUYwL7GYjlwO",
        "outputId": "6ebde202-09a1-4131-db4a-34bcf499ab87",
        "colab": {
          "base_uri": "https://localhost:8080/"
        }
      },
      "execution_count": 5,
      "outputs": [
        {
          "output_type": "stream",
          "name": "stdout",
          "text": [
            "Root\n",
            "   |__Child 1\n",
            "   |__Child 2\n",
            "      |__Child 3\n",
            "         |__Child 4\n",
            "         |__Child 5\n",
            "            |__Child 6\n"
          ]
        }
      ]
    },
    {
      "cell_type": "code",
      "source": [],
      "metadata": {
        "id": "lYZV0L-fniyU"
      },
      "execution_count": null,
      "outputs": []
    }
  ]
}