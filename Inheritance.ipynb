{
  "nbformat": 4,
  "nbformat_minor": 0,
  "metadata": {
    "colab": {
      "provenance": [],
      "authorship_tag": "ABX9TyMiTX7RNlLaWwouNc/cHKGw",
      "include_colab_link": true
    },
    "kernelspec": {
      "name": "python3",
      "display_name": "Python 3"
    },
    "language_info": {
      "name": "python"
    }
  },
  "cells": [
    {
      "cell_type": "markdown",
      "metadata": {
        "id": "view-in-github",
        "colab_type": "text"
      },
      "source": [
        "<a href=\"https://colab.research.google.com/github/Adarsha9845/Monte-Carlo-Simulation-/blob/main/Inheritance.ipynb\" target=\"_parent\"><img src=\"https://colab.research.google.com/assets/colab-badge.svg\" alt=\"Open In Colab\"/></a>"
      ]
    },
    {
      "cell_type": "code",
      "execution_count": 2,
      "metadata": {
        "id": "BQsUxFctNkih"
      },
      "outputs": [],
      "source": [
        "import numpy as np"
      ]
    },
    {
      "cell_type": "code",
      "source": [
        "class TreeNode:\n",
        "    def __init__(self, data):\n",
        "        self.data = data\n",
        "        self.children = []\n",
        "\n",
        "    def add_child(self, child_node):\n",
        "        self.children.append(child_node)\n",
        "\n",
        "def print_tree(root, level=0):\n",
        "    if root is None:\n",
        "        return\n",
        "    print(\"  \" * level + str(root.data))\n",
        "    for child in root.children:\n",
        "        print_tree(child, level + 1)\n",
        "\n",
        "# Example usage:\n",
        "\n",
        "# root = TreeNode(\"A\")\n",
        "# child1 = TreeNode(\"B\")\n",
        "# child2 = TreeNode(\"C\")\n",
        "# child3 = TreeNode(\"D\")\n",
        "\n",
        "# root.add_child(child1)\n",
        "# root.add_child(child2)\n",
        "# child1.add_child(child3)\n",
        "\n",
        "# print_tree(root)"
      ],
      "metadata": {
        "id": "lYZV0L-fniyU"
      },
      "execution_count": 3,
      "outputs": []
    },
    {
      "cell_type": "code",
      "source": [
        "char_array = [chr(ord('a') + i) for i in range(26)]"
      ],
      "metadata": {
        "id": "6Y3RYoz6Aj0l"
      },
      "execution_count": 4,
      "outputs": []
    },
    {
      "cell_type": "code",
      "source": [
        "children = {}\n",
        "i = 0\n",
        "children[\"child\" + str(i)] = TreeNode(char_array[i])\n",
        "i = i + 1\n",
        "tempVar = 0\n",
        "baseNode = children[\"child\" + str(i-1)]\n",
        "for char in char_array[1:]:\n",
        "\n",
        "  children[\"child\" + str(i)] = TreeNode(char)\n",
        "  if tempVar != 2:\n",
        "    baseNode.add_child(children[\"child\" + str(i)])\n",
        "    tempVar = tempVar + 1\n",
        "  else:\n",
        "    tempVar = 0\n",
        "    children[\"child\" + str(i-1)].add_child(children[\"child\" + str(i)])\n",
        "    baseNode = children[\"child\" + str(i)]\n",
        "\n",
        "\n",
        "\n"
      ],
      "metadata": {
        "id": "WMOhQwQeAejr"
      },
      "execution_count": 5,
      "outputs": []
    },
    {
      "cell_type": "code",
      "source": [
        "print_tree(children[\"child\" + str(0)])"
      ],
      "metadata": {
        "id": "v9Jj1MyA_2Jq",
        "outputId": "d750ab46-a302-4b82-aada-ce39899896a9",
        "colab": {
          "base_uri": "https://localhost:8080/"
        }
      },
      "execution_count": 6,
      "outputs": [
        {
          "output_type": "stream",
          "name": "stdout",
          "text": [
            "a\n",
            "  b\n",
            "  c\n",
            "  d\n",
            "    e\n",
            "    f\n",
            "  g\n",
            "    h\n",
            "    i\n",
            "  j\n",
            "    k\n",
            "    l\n",
            "  m\n",
            "    n\n",
            "    o\n",
            "  p\n",
            "    q\n",
            "    r\n",
            "  s\n",
            "    t\n",
            "    u\n",
            "  v\n",
            "    w\n",
            "    x\n",
            "  y\n",
            "    z\n"
          ]
        }
      ]
    },
    {
      "cell_type": "code",
      "source": [
        "print(char_array[1:])"
      ],
      "metadata": {
        "id": "_9kj50tXAWWb",
        "outputId": "50cbc58e-4029-475f-b3a0-5f2804fe281a",
        "colab": {
          "base_uri": "https://localhost:8080/"
        }
      },
      "execution_count": null,
      "outputs": [
        {
          "output_type": "stream",
          "name": "stdout",
          "text": [
            "['b', 'c', 'd', 'e', 'f', 'g', 'h', 'i', 'j', 'k', 'l', 'm', 'n', 'o', 'p', 'q', 'r', 's', 't', 'u', 'v', 'w', 'x', 'y', 'z']\n"
          ]
        }
      ]
    },
    {
      "cell_type": "code",
      "source": [
        "char_array[0]"
      ],
      "metadata": {
        "id": "3EHRTl62AYh_",
        "outputId": "be5cc5a6-56ca-4bc3-e4a9-b585c056a23f",
        "colab": {
          "base_uri": "https://localhost:8080/",
          "height": 35
        }
      },
      "execution_count": null,
      "outputs": [
        {
          "output_type": "execute_result",
          "data": {
            "text/plain": [
              "'a'"
            ],
            "application/vnd.google.colaboratory.intrinsic+json": {
              "type": "string"
            }
          },
          "metadata": {},
          "execution_count": 5
        }
      ]
    },
    {
      "cell_type": "code",
      "source": [],
      "metadata": {
        "id": "bt1Nwx6G1s3x"
      },
      "execution_count": null,
      "outputs": []
    }
  ]
}